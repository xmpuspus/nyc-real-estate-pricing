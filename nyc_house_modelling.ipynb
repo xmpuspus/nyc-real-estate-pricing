{
 "cells": [
  {
   "cell_type": "markdown",
   "metadata": {},
   "source": [
    "# Load Packages"
   ]
  },
  {
   "cell_type": "code",
   "execution_count": 1,
   "metadata": {},
   "outputs": [],
   "source": [
    "import pandas as pd\n",
    "import numpy as np\n",
    "import matplotlib.pyplot as plt\n",
    "import seaborn as sns\n",
    "\n",
    "pd.options.display.max_columns = 999\n",
    "pd.options.display.max_rows = 999\n",
    "\n",
    "from sklearn.linear_model import LinearRegression \n",
    "from sklearn.model_selection import train_test_split\n",
    "import joblib"
   ]
  },
  {
   "cell_type": "code",
   "execution_count": 2,
   "metadata": {},
   "outputs": [],
   "source": [
    "# Ensemble Methods\n",
    "from sklearn.ensemble import RandomForestRegressor\n",
    "from sklearn.ensemble import GradientBoostingRegressor\n",
    "from sklearn.metrics import mean_squared_error as mse"
   ]
  },
  {
   "cell_type": "markdown",
   "metadata": {},
   "source": [
    "# Load Data"
   ]
  },
  {
   "cell_type": "code",
   "execution_count": 3,
   "metadata": {},
   "outputs": [],
   "source": [
    "data = pd.read_csv('data/nyc-rolling-sales.csv')"
   ]
  },
  {
   "cell_type": "markdown",
   "metadata": {},
   "source": [
    "# Clean Data"
   ]
  },
  {
   "cell_type": "code",
   "execution_count": 4,
   "metadata": {},
   "outputs": [],
   "source": [
    "### Clean Data\n",
    "# Convert to float\n",
    "data['SALE PRICE'] = pd.to_numeric(data['SALE PRICE'], errors='coerce')\n",
    "data['SALE PRICE'] = data['SALE PRICE'].fillna(0)\n",
    "\n",
    "data['GROSS SQUARE FEET'] = pd.to_numeric(data['GROSS SQUARE FEET'], errors='coerce')\n",
    "data['LAND SQUARE FEET'] = pd.to_numeric(data['LAND SQUARE FEET'], errors='coerce')\n",
    "\n",
    "# Convert to date\n",
    "data['SALE DATE'] = pd.to_datetime(data['SALE DATE'], errors='coerce')\n",
    "\n",
    "\n",
    "# Remove 5th and 95th percentile tails\n",
    "zero = 0\n",
    "fifth = data['SALE PRICE'].describe(np.arange(0.05, 1, 0.05)).T['15%']\n",
    "ninetyfifth = data['SALE PRICE'].describe(np.arange(0.05, 1, 0.05)).T['95%']\n",
    "data = data[(data['SALE PRICE'] > zero) &\n",
    "             (data['SALE PRICE'] <= ninetyfifth)].copy()\n",
    "\n",
    "# Handle Missing Values by Dropping (for now)\n",
    "data.dropna(inplace=True)\n"
   ]
  },
  {
   "cell_type": "code",
   "execution_count": 5,
   "metadata": {},
   "outputs": [
    {
     "data": {
      "text/plain": [
       "(36128, 22)"
      ]
     },
     "execution_count": 5,
     "metadata": {},
     "output_type": "execute_result"
    }
   ],
   "source": [
    "data.shape"
   ]
  },
  {
   "cell_type": "code",
   "execution_count": 6,
   "metadata": {},
   "outputs": [],
   "source": [
    "dep_var = 'SALE PRICE'\n",
    "cat_names = ['BOROUGH', 'NEIGHBORHOOD', 'BUILDING CLASS CATEGORY', 'TAX CLASS AT PRESENT',\n",
    "              'BUILDING CLASS AT PRESENT', 'BUILDING CLASS AT TIME OF SALE']\n",
    "cont_names = ['LAND SQUARE FEET', 'GROSS SQUARE FEET', 'RESIDENTIAL UNITS', \n",
    "              'COMMERCIAL UNITS']"
   ]
  },
  {
   "cell_type": "markdown",
   "metadata": {},
   "source": [
    "# Feature Engineering"
   ]
  },
  {
   "cell_type": "code",
   "execution_count": 10,
   "metadata": {},
   "outputs": [],
   "source": [
    "# Multihot encode categorical variables\n",
    "df_cat = pd.get_dummies(data[cat_names].astype(str))\n",
    "\n",
    "# Reassign numerical to diff df\n",
    "df_cont = data[cont_names]\n",
    "\n",
    "# Normalize numerical features\n",
    "df_cont_norm = (df_cont-df_cont.min())/(df_cont.max()-df_cont.min())\n",
    "\n",
    "# Concatenate features\n",
    "X = pd.concat([df_cat, df_cont_norm], axis=1)\n",
    "\n",
    "# Get dependent variable and store as different df series\n",
    "# y = np.log(data[dep_var])\n",
    "y = data[dep_var]"
   ]
  },
  {
   "cell_type": "code",
   "execution_count": 11,
   "metadata": {},
   "outputs": [
    {
     "data": {
      "text/html": [
       "<style  type=\"text/css\" >\n",
       "    #T_a801d5de_0da3_11ea_9143_8c8590ccd576row0_col0 {\n",
       "            background-color:  #b40426;\n",
       "            color:  #f1f1f1;\n",
       "        }    #T_a801d5de_0da3_11ea_9143_8c8590ccd576row0_col1 {\n",
       "            background-color:  #ef886b;\n",
       "            color:  #000000;\n",
       "        }    #T_a801d5de_0da3_11ea_9143_8c8590ccd576row0_col2 {\n",
       "            background-color:  #f6bda2;\n",
       "            color:  #000000;\n",
       "        }    #T_a801d5de_0da3_11ea_9143_8c8590ccd576row0_col3 {\n",
       "            background-color:  #4055c8;\n",
       "            color:  #f1f1f1;\n",
       "        }    #T_a801d5de_0da3_11ea_9143_8c8590ccd576row1_col0 {\n",
       "            background-color:  #ef886b;\n",
       "            color:  #000000;\n",
       "        }    #T_a801d5de_0da3_11ea_9143_8c8590ccd576row1_col1 {\n",
       "            background-color:  #b40426;\n",
       "            color:  #f1f1f1;\n",
       "        }    #T_a801d5de_0da3_11ea_9143_8c8590ccd576row1_col2 {\n",
       "            background-color:  #df634e;\n",
       "            color:  #000000;\n",
       "        }    #T_a801d5de_0da3_11ea_9143_8c8590ccd576row1_col3 {\n",
       "            background-color:  #3e51c5;\n",
       "            color:  #f1f1f1;\n",
       "        }    #T_a801d5de_0da3_11ea_9143_8c8590ccd576row2_col0 {\n",
       "            background-color:  #f6bda2;\n",
       "            color:  #000000;\n",
       "        }    #T_a801d5de_0da3_11ea_9143_8c8590ccd576row2_col1 {\n",
       "            background-color:  #df634e;\n",
       "            color:  #000000;\n",
       "        }    #T_a801d5de_0da3_11ea_9143_8c8590ccd576row2_col2 {\n",
       "            background-color:  #b40426;\n",
       "            color:  #f1f1f1;\n",
       "        }    #T_a801d5de_0da3_11ea_9143_8c8590ccd576row2_col3 {\n",
       "            background-color:  #3b4cc0;\n",
       "            color:  #f1f1f1;\n",
       "        }    #T_a801d5de_0da3_11ea_9143_8c8590ccd576row3_col0 {\n",
       "            background-color:  #4055c8;\n",
       "            color:  #f1f1f1;\n",
       "        }    #T_a801d5de_0da3_11ea_9143_8c8590ccd576row3_col1 {\n",
       "            background-color:  #3e51c5;\n",
       "            color:  #f1f1f1;\n",
       "        }    #T_a801d5de_0da3_11ea_9143_8c8590ccd576row3_col2 {\n",
       "            background-color:  #3b4cc0;\n",
       "            color:  #f1f1f1;\n",
       "        }    #T_a801d5de_0da3_11ea_9143_8c8590ccd576row3_col3 {\n",
       "            background-color:  #b40426;\n",
       "            color:  #f1f1f1;\n",
       "        }</style><table id=\"T_a801d5de_0da3_11ea_9143_8c8590ccd576\" ><thead>    <tr>        <th class=\"blank level0\" ></th>        <th class=\"col_heading level0 col0\" >LAND SQUARE FEET</th>        <th class=\"col_heading level0 col1\" >GROSS SQUARE FEET</th>        <th class=\"col_heading level0 col2\" >RESIDENTIAL UNITS</th>        <th class=\"col_heading level0 col3\" >COMMERCIAL UNITS</th>    </tr></thead><tbody>\n",
       "                <tr>\n",
       "                        <th id=\"T_a801d5de_0da3_11ea_9143_8c8590ccd576level0_row0\" class=\"row_heading level0 row0\" >LAND SQUARE FEET</th>\n",
       "                        <td id=\"T_a801d5de_0da3_11ea_9143_8c8590ccd576row0_col0\" class=\"data row0 col0\" >1</td>\n",
       "                        <td id=\"T_a801d5de_0da3_11ea_9143_8c8590ccd576row0_col1\" class=\"data row0 col1\" >0.791965</td>\n",
       "                        <td id=\"T_a801d5de_0da3_11ea_9143_8c8590ccd576row0_col2\" class=\"data row0 col2\" >0.654991</td>\n",
       "                        <td id=\"T_a801d5de_0da3_11ea_9143_8c8590ccd576row0_col3\" class=\"data row0 col3\" >0.0291856</td>\n",
       "            </tr>\n",
       "            <tr>\n",
       "                        <th id=\"T_a801d5de_0da3_11ea_9143_8c8590ccd576level0_row1\" class=\"row_heading level0 row1\" >GROSS SQUARE FEET</th>\n",
       "                        <td id=\"T_a801d5de_0da3_11ea_9143_8c8590ccd576row1_col0\" class=\"data row1 col0\" >0.791965</td>\n",
       "                        <td id=\"T_a801d5de_0da3_11ea_9143_8c8590ccd576row1_col1\" class=\"data row1 col1\" >1</td>\n",
       "                        <td id=\"T_a801d5de_0da3_11ea_9143_8c8590ccd576row1_col2\" class=\"data row1 col2\" >0.870247</td>\n",
       "                        <td id=\"T_a801d5de_0da3_11ea_9143_8c8590ccd576row1_col3\" class=\"data row1 col3\" >0.0237757</td>\n",
       "            </tr>\n",
       "            <tr>\n",
       "                        <th id=\"T_a801d5de_0da3_11ea_9143_8c8590ccd576level0_row2\" class=\"row_heading level0 row2\" >RESIDENTIAL UNITS</th>\n",
       "                        <td id=\"T_a801d5de_0da3_11ea_9143_8c8590ccd576row2_col0\" class=\"data row2 col0\" >0.654991</td>\n",
       "                        <td id=\"T_a801d5de_0da3_11ea_9143_8c8590ccd576row2_col1\" class=\"data row2 col1\" >0.870247</td>\n",
       "                        <td id=\"T_a801d5de_0da3_11ea_9143_8c8590ccd576row2_col2\" class=\"data row2 col2\" >1</td>\n",
       "                        <td id=\"T_a801d5de_0da3_11ea_9143_8c8590ccd576row2_col3\" class=\"data row2 col3\" >0.00917148</td>\n",
       "            </tr>\n",
       "            <tr>\n",
       "                        <th id=\"T_a801d5de_0da3_11ea_9143_8c8590ccd576level0_row3\" class=\"row_heading level0 row3\" >COMMERCIAL UNITS</th>\n",
       "                        <td id=\"T_a801d5de_0da3_11ea_9143_8c8590ccd576row3_col0\" class=\"data row3 col0\" >0.0291856</td>\n",
       "                        <td id=\"T_a801d5de_0da3_11ea_9143_8c8590ccd576row3_col1\" class=\"data row3 col1\" >0.0237757</td>\n",
       "                        <td id=\"T_a801d5de_0da3_11ea_9143_8c8590ccd576row3_col2\" class=\"data row3 col2\" >0.00917148</td>\n",
       "                        <td id=\"T_a801d5de_0da3_11ea_9143_8c8590ccd576row3_col3\" class=\"data row3 col3\" >1</td>\n",
       "            </tr>\n",
       "    </tbody></table>"
      ],
      "text/plain": [
       "<pandas.io.formats.style.Styler at 0x1a17a452d0>"
      ]
     },
     "execution_count": 11,
     "metadata": {},
     "output_type": "execute_result"
    }
   ],
   "source": [
    "df_cont.corr().style.background_gradient('coolwarm', axis=None)"
   ]
  },
  {
   "cell_type": "code",
   "execution_count": 12,
   "metadata": {},
   "outputs": [
    {
     "data": {
      "text/plain": [
       "((36128, 560), (36128,))"
      ]
     },
     "execution_count": 12,
     "metadata": {},
     "output_type": "execute_result"
    }
   ],
   "source": [
    "X.shape, y.shape"
   ]
  },
  {
   "cell_type": "markdown",
   "metadata": {},
   "source": [
    "# Modelling"
   ]
  },
  {
   "cell_type": "code",
   "execution_count": 13,
   "metadata": {},
   "outputs": [
    {
     "name": "stdout",
     "output_type": "stream",
     "text": [
      "CPU times: user 38.5 s, sys: 155 ms, total: 38.6 s\n",
      "Wall time: 39 s\n"
     ]
    },
    {
     "data": {
      "text/plain": [
       "GradientBoostingRegressor(alpha=0.9, criterion='friedman_mse', init=None,\n",
       "                          learning_rate=0.1, loss='ls', max_depth=3,\n",
       "                          max_features=None, max_leaf_nodes=None,\n",
       "                          min_impurity_decrease=0.0, min_impurity_split=None,\n",
       "                          min_samples_leaf=1, min_samples_split=2,\n",
       "                          min_weight_fraction_leaf=0.0, n_estimators=300,\n",
       "                          n_iter_no_change=None, presort='auto',\n",
       "                          random_state=42, subsample=1.0, tol=0.0001,\n",
       "                          validation_fraction=0.1, verbose=0, warm_start=False)"
      ]
     },
     "execution_count": 13,
     "metadata": {},
     "output_type": "execute_result"
    }
   ],
   "source": [
    "# Train-test split\n",
    "X_train, X_test, y_train, y_test = train_test_split(X, y, test_size = 0.4, random_state = 42)\n",
    "\n",
    "# model = RandomForestRegressor(n_estimators=300, random_state=42)\n",
    "model = GradientBoostingRegressor(n_estimators=300, random_state=42, )\n",
    "\n",
    "# Fit Model\n",
    "%time model.fit(X_train, y_train)"
   ]
  },
  {
   "cell_type": "code",
   "execution_count": 14,
   "metadata": {},
   "outputs": [],
   "source": [
    "y_pred = model.predict(X_test)\n",
    "y_pred_train = model.predict(X_train)"
   ]
  },
  {
   "cell_type": "code",
   "execution_count": 15,
   "metadata": {},
   "outputs": [],
   "source": [
    "rmse_score = np.sqrt(mse(y_pred, y_test))"
   ]
  },
  {
   "cell_type": "code",
   "execution_count": 16,
   "metadata": {},
   "outputs": [
    {
     "data": {
      "text/plain": [
       "361354.98524531676"
      ]
     },
     "execution_count": 16,
     "metadata": {},
     "output_type": "execute_result"
    }
   ],
   "source": [
    "rmse_score"
   ]
  },
  {
   "cell_type": "code",
   "execution_count": 17,
   "metadata": {},
   "outputs": [
    {
     "data": {
      "text/plain": [
       "338733.0641055103"
      ]
     },
     "execution_count": 17,
     "metadata": {},
     "output_type": "execute_result"
    }
   ],
   "source": [
    "rmse_score_train = np.sqrt(mse(y_pred_train, y_train))\n",
    "rmse_score_train"
   ]
  },
  {
   "cell_type": "markdown",
   "metadata": {},
   "source": [
    "# AutoML"
   ]
  },
  {
   "cell_type": "code",
   "execution_count": null,
   "metadata": {},
   "outputs": [],
   "source": [
    "# !pip install tpot;\n",
    "from tpot import TPOTRegressor"
   ]
  },
  {
   "cell_type": "code",
   "execution_count": null,
   "metadata": {},
   "outputs": [],
   "source": [
    "gen_num = 5\n",
    "max_tot_time = 30\n",
    "max_eval_time = 3\n",
    "pop_size = 10\n",
    "verbose = 2"
   ]
  },
  {
   "cell_type": "code",
   "execution_count": null,
   "metadata": {},
   "outputs": [],
   "source": [
    "import os\n",
    "import shutil\n",
    "\n",
    "datadir = './pipelines'\n",
    "if not os.path.exists(datadir):\n",
    "    os.makedirs(datadir)\n",
    "\n",
    "tpot = TPOTRegressor(generations=gen_num, max_time_mins=max_tot_time, \n",
    "                      max_eval_time_mins=max_eval_time, population_size=pop_size, verbosity = verbose, memory = 'auto',\n",
    "                     periodic_checkpoint_folder='pipelines/', warm_start = True)\n",
    "tpot.fit(X_train, y_train)\n",
    "print(tpot.score(X_test, y_test))"
   ]
  },
  {
   "cell_type": "code",
   "execution_count": null,
   "metadata": {},
   "outputs": [],
   "source": [
    "pd.DataFrame(dict(list(tpot.evaluated_individuals_.items()))).T\\\n",
    ".replace([np.inf, -np.inf], np.nan)\\\n",
    ".dropna()\\\n",
    ".drop('generation', axis = 1)\\\n",
    ".sort_values('internal_cv_score', ascending = False)\\\n",
    ".head()"
   ]
  },
  {
   "cell_type": "code",
   "execution_count": null,
   "metadata": {},
   "outputs": [],
   "source": [
    "1.7"
   ]
  }
 ],
 "metadata": {
  "kernelspec": {
   "display_name": "Python 3",
   "language": "python",
   "name": "python3"
  },
  "language_info": {
   "codemirror_mode": {
    "name": "ipython",
    "version": 3
   },
   "file_extension": ".py",
   "mimetype": "text/x-python",
   "name": "python",
   "nbconvert_exporter": "python",
   "pygments_lexer": "ipython3",
   "version": "3.7.4"
  }
 },
 "nbformat": 4,
 "nbformat_minor": 4
}
