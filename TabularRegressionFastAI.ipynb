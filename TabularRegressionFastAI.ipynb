{
  "nbformat": 4,
  "nbformat_minor": 0,
  "metadata": {
    "colab": {
      "name": "TabularRegressionFastAI.ipynb",
      "provenance": [],
      "collapsed_sections": [],
      "include_colab_link": true
    },
    "kernelspec": {
      "name": "python3",
      "display_name": "Python 3"
    },
    "accelerator": "GPU"
  },
  "cells": [
    {
      "cell_type": "markdown",
      "metadata": {
        "id": "view-in-github",
        "colab_type": "text"
      },
      "source": [
        "<a href=\"https://colab.research.google.com/github/xmpuspus/nyc-real-estate-pricing/blob/master/TabularRegressionFastAI.ipynb\" target=\"_parent\"><img src=\"https://colab.research.google.com/assets/colab-badge.svg\" alt=\"Open In Colab\"/></a>"
      ]
    },
    {
      "cell_type": "code",
      "metadata": {
        "id": "0gyTlRdWfE8p",
        "colab_type": "code",
        "colab": {}
      },
      "source": [
        "import numpy as np\n",
        "import pandas as pd\n",
        "import matplotlib.pyplot as plt\n",
        "import seaborn as sns"
      ],
      "execution_count": 0,
      "outputs": []
    },
    {
      "cell_type": "code",
      "metadata": {
        "id": "bl8TikR9JZJC",
        "colab_type": "code",
        "outputId": "c5bc9521-ad6c-4495-b947-828a6079771f",
        "colab": {
          "base_uri": "https://localhost:8080/",
          "height": 34
        }
      },
      "source": [
        "import gc\n",
        "gc.collect()"
      ],
      "execution_count": 0,
      "outputs": [
        {
          "output_type": "execute_result",
          "data": {
            "text/plain": [
              "0"
            ]
          },
          "metadata": {
            "tags": []
          },
          "execution_count": 2
        }
      ]
    },
    {
      "cell_type": "code",
      "metadata": {
        "id": "7e8PTQ0eMCPL",
        "colab_type": "code",
        "colab": {}
      },
      "source": [
        "# Load FastAI\n",
        "from fastai import *\n",
        "from fastai.tabular import *"
      ],
      "execution_count": 0,
      "outputs": []
    },
    {
      "cell_type": "code",
      "metadata": {
        "id": "RCZmpSlnMcob",
        "colab_type": "code",
        "colab": {}
      },
      "source": [
        "# train test split\n",
        "from sklearn.model_selection import train_test_split"
      ],
      "execution_count": 0,
      "outputs": []
    },
    {
      "cell_type": "code",
      "metadata": {
        "id": "IamjtGvVJbWJ",
        "colab_type": "code",
        "outputId": "b908dc07-07ca-4c31-aada-459e68cac3a8",
        "colab": {
          "base_uri": "https://localhost:8080/",
          "height": 122
        }
      },
      "source": [
        "# Load data from google drive\n",
        "from google.colab import drive\n",
        "\n",
        "drive.mount('/content/gdrive')"
      ],
      "execution_count": 0,
      "outputs": [
        {
          "output_type": "stream",
          "text": [
            "Go to this URL in a browser: https://accounts.google.com/o/oauth2/auth?client_id=947318989803-6bn6qk8qdgf4n4g3pfee6491hc0brc4i.apps.googleusercontent.com&redirect_uri=urn%3aietf%3awg%3aoauth%3a2.0%3aoob&response_type=code&scope=email%20https%3a%2f%2fwww.googleapis.com%2fauth%2fdocs.test%20https%3a%2f%2fwww.googleapis.com%2fauth%2fdrive%20https%3a%2f%2fwww.googleapis.com%2fauth%2fdrive.photos.readonly%20https%3a%2f%2fwww.googleapis.com%2fauth%2fpeopleapi.readonly\n",
            "\n",
            "Enter your authorization code:\n",
            "··········\n",
            "Mounted at /content/gdrive\n"
          ],
          "name": "stdout"
        }
      ]
    },
    {
      "cell_type": "code",
      "metadata": {
        "id": "SeUlmVM5KmeB",
        "colab_type": "code",
        "colab": {}
      },
      "source": [
        "data_repo_url = '/content/gdrive/My Drive/Datasets/'\n",
        "data_url = data_repo_url + 'NYC House Prices/nyc-rolling-sales.csv'"
      ],
      "execution_count": 0,
      "outputs": []
    },
    {
      "cell_type": "code",
      "metadata": {
        "id": "Hylyw5QYQoZh",
        "colab_type": "code",
        "colab": {}
      },
      "source": [
        "# Load Data\n",
        "data = pd.read_csv(data_url)\n",
        "\n",
        "### Clean Data\n",
        "# Convert to float\n",
        "data['SALE PRICE'] = pd.to_numeric(data['SALE PRICE'], errors='coerce')\n",
        "data['SALE PRICE'] = data['SALE PRICE'].fillna(0)\n",
        "\n",
        "data['GROSS SQUARE FEET'] = pd.to_numeric(data['GROSS SQUARE FEET'], errors='coerce')\n",
        "data['LAND SQUARE FEET'] = pd.to_numeric(data['LAND SQUARE FEET'], errors='coerce')\n",
        "\n",
        "# Convert to date\n",
        "data['SALE DATE'] = pd.to_datetime(data['SALE DATE'], errors='coerce')\n",
        "\n",
        "\n",
        "# Remove 5th and 95th percentile tails\n",
        "zero = 0\n",
        "fifth = data['SALE PRICE'].describe(np.arange(0.05, 1, 0.05)).T['15%']\n",
        "ninetyfifth = data['SALE PRICE'].describe(np.arange(0.05, 1, 0.05)).T['95%']\n",
        "data = data[(data['SALE PRICE'] > zero) &\n",
        "             (data['SALE PRICE'] <= ninetyfifth)].copy()\n",
        "\n",
        "data.dropna(inplace=True)"
      ],
      "execution_count": 0,
      "outputs": []
    },
    {
      "cell_type": "code",
      "metadata": {
        "id": "TD6lG5MVW3yB",
        "colab_type": "code",
        "colab": {}
      },
      "source": [
        "# data.dropna(subset=['SALE PRICE'], inplace=True)"
      ],
      "execution_count": 0,
      "outputs": []
    },
    {
      "cell_type": "code",
      "metadata": {
        "id": "cS-uNPeHW6Ji",
        "colab_type": "code",
        "outputId": "ee505d56-07fb-4e1b-fa06-3287644d6f22",
        "colab": {
          "base_uri": "https://localhost:8080/",
          "height": 34
        }
      },
      "source": [
        "data.shape"
      ],
      "execution_count": 0,
      "outputs": [
        {
          "output_type": "execute_result",
          "data": {
            "text/plain": [
              "(36128, 22)"
            ]
          },
          "metadata": {
            "tags": []
          },
          "execution_count": 8
        }
      ]
    },
    {
      "cell_type": "code",
      "metadata": {
        "id": "x2dzASmuZJQS",
        "colab_type": "code",
        "outputId": "cc9a5667-19bf-4be1-fa38-86f369a675e6",
        "colab": {
          "base_uri": "https://localhost:8080/",
          "height": 299
        }
      },
      "source": [
        "sns.distplot(data['SALE PRICE'], kde=False)"
      ],
      "execution_count": 0,
      "outputs": [
        {
          "output_type": "execute_result",
          "data": {
            "text/plain": [
              "<matplotlib.axes._subplots.AxesSubplot at 0x7f1ca8f6db38>"
            ]
          },
          "metadata": {
            "tags": []
          },
          "execution_count": 9
        },
        {
          "output_type": "display_data",
          "data": {
            "image/png": "[encoded data removed]",
            "text/plain": [
              "<Figure size 432x288 with 1 Axes>"
            ]
          },
          "metadata": {
            "tags": []
          }
        }
      ]
    },
    {
      "cell_type": "code",
      "metadata": {
        "id": "cmTPhpQNK5lO",
        "colab_type": "code",
        "colab": {}
      },
      "source": [
        "dep_var = 'SALE PRICE'\n",
        "cat_names = ['BOROUGH', 'NEIGHBORHOOD', 'BUILDING CLASS CATEGORY', 'TAX CLASS AT PRESENT',\n",
        "              'BUILDING CLASS AT PRESENT', 'BUILDING CLASS AT TIME OF SALE']\n",
        "cont_names = ['LAND SQUARE FEET', 'GROSS SQUARE FEET', 'RESIDENTIAL UNITS', \n",
        "              'COMMERCIAL UNITS']"
      ],
      "execution_count": 0,
      "outputs": []
    },
    {
      "cell_type": "code",
      "metadata": {
        "id": "8YCAUebKL2iM",
        "colab_type": "code",
        "outputId": "25166ffd-2b2f-4c5c-e7a1-d66573168267",
        "colab": {
          "base_uri": "https://localhost:8080/",
          "height": 71
        }
      },
      "source": [
        "print(\"Categorical columns are : \", cat_names)\n",
        "print('Continuous numerical columns are :', cont_names)\n",
        "procs = [FillMissing, Categorify, Normalize]"
      ],
      "execution_count": 0,
      "outputs": [
        {
          "output_type": "stream",
          "text": [
            "Categorical columns are :  ['BOROUGH', 'NEIGHBORHOOD', 'BUILDING CLASS CATEGORY', 'TAX CLASS AT PRESENT', 'BUILDING CLASS AT PRESENT', 'BUILDING CLASS AT TIME OF SALE']\n",
            "Continuous numerical columns are : ['LAND SQUARE FEET', 'GROSS SQUARE FEET', 'RESIDENTIAL UNITS', 'COMMERCIAL UNITS']\n"
          ],
          "name": "stdout"
        }
      ]
    },
    {
      "cell_type": "code",
      "metadata": {
        "id": "LYQ6qC48Mbu9",
        "colab_type": "code",
        "colab": {}
      },
      "source": [
        "df_train, df_test = train_test_split(data, test_size=0.33, random_state=42)"
      ],
      "execution_count": 0,
      "outputs": []
    },
    {
      "cell_type": "code",
      "metadata": {
        "id": "y6SxWubrOXa6",
        "colab_type": "code",
        "outputId": "893ab191-21b7-4436-c28b-92c376b616df",
        "colab": {
          "base_uri": "https://localhost:8080/",
          "height": 34
        }
      },
      "source": [
        "df_train.shape, df_test.shape"
      ],
      "execution_count": 0,
      "outputs": [
        {
          "output_type": "execute_result",
          "data": {
            "text/plain": [
              "((24205, 22), (11923, 22))"
            ]
          },
          "metadata": {
            "tags": []
          },
          "execution_count": 13
        }
      ]
    },
    {
      "cell_type": "code",
      "metadata": {
        "id": "j8d478w4L8H5",
        "colab_type": "code",
        "outputId": "1dd10f92-66a3-407b-e209-6539641b255a",
        "colab": {
          "base_uri": "https://localhost:8080/",
          "height": 787
        }
      },
      "source": [
        "# Transformations\n",
        "procs = [FillMissing, Categorify, Normalize]\n",
        "\n",
        "# Test tabularlist\n",
        "test = TabularList.from_df(df_test, cat_names=cat_names, cont_names=cont_names, procs=procs)\n",
        "\n",
        "# Train data bunch\n",
        "data = (TabularList.from_df(df_train, path='.', cat_names=cat_names, cont_names=cont_names, procs=procs)\n",
        "                        .split_by_rand_pct(valid_pct = 0.1, seed = 42)\n",
        "                      .label_from_df(cols = dep_var, label_cls = FloatList, log=True)\n",
        "                        .add_test(test)\n",
        "                        .databunch())\n",
        "data.show_batch(rows=10)"
      ],
      "execution_count": 0,
      "outputs": [
        {
          "output_type": "display_data",
          "data": {
            "text/html": [
              "<table border=\"1\" class=\"dataframe\">\n",
              "  <thead>\n",
              "    <tr style=\"text-align: right;\">\n",
              "      <th>BOROUGH</th>\n",
              "      <th>NEIGHBORHOOD</th>\n",
              "      <th>BUILDING CLASS CATEGORY</th>\n",
              "      <th>TAX CLASS AT PRESENT</th>\n",
              "      <th>BUILDING CLASS AT PRESENT</th>\n",
              "      <th>BUILDING CLASS AT TIME OF SALE</th>\n",
              "      <th>LAND SQUARE FEET</th>\n",
              "      <th>GROSS SQUARE FEET</th>\n",
              "      <th>RESIDENTIAL UNITS</th>\n",
              "      <th>COMMERCIAL UNITS</th>\n",
              "      <th>target</th>\n",
              "    </tr>\n",
              "  </thead>\n",
              "  <tbody>\n",
              "    <tr>\n",
              "      <td>4</td>\n",
              "      <td>SPRINGFIELD GARDENS</td>\n",
              "      <td>02 TWO FAMILY DWELLINGS</td>\n",
              "      <td>1</td>\n",
              "      <td>B1</td>\n",
              "      <td>B1</td>\n",
              "      <td>0.1062</td>\n",
              "      <td>-0.0498</td>\n",
              "      <td>0.0166</td>\n",
              "      <td>-0.1508</td>\n",
              "      <td>13.151922</td>\n",
              "    </tr>\n",
              "    <tr>\n",
              "      <td>3</td>\n",
              "      <td>FLATBUSH-EAST</td>\n",
              "      <td>02 TWO FAMILY DWELLINGS</td>\n",
              "      <td>1</td>\n",
              "      <td>B2</td>\n",
              "      <td>B2</td>\n",
              "      <td>0.0265</td>\n",
              "      <td>0.0252</td>\n",
              "      <td>0.0166</td>\n",
              "      <td>-0.1508</td>\n",
              "      <td>13.71015</td>\n",
              "    </tr>\n",
              "    <tr>\n",
              "      <td>4</td>\n",
              "      <td>HOLLIS</td>\n",
              "      <td>01 ONE FAMILY DWELLINGS</td>\n",
              "      <td>1</td>\n",
              "      <td>A1</td>\n",
              "      <td>A1</td>\n",
              "      <td>0.0265</td>\n",
              "      <td>-0.0126</td>\n",
              "      <td>-0.0532</td>\n",
              "      <td>-0.1508</td>\n",
              "      <td>2.3025851</td>\n",
              "    </tr>\n",
              "    <tr>\n",
              "      <td>3</td>\n",
              "      <td>FLATBUSH-LEFFERTS GARDEN</td>\n",
              "      <td>10 COOPS - ELEVATOR APARTMENTS</td>\n",
              "      <td>2</td>\n",
              "      <td>D4</td>\n",
              "      <td>D4</td>\n",
              "      <td>-0.0864</td>\n",
              "      <td>-0.0846</td>\n",
              "      <td>-0.1230</td>\n",
              "      <td>-0.1508</td>\n",
              "      <td>13.10216</td>\n",
              "    </tr>\n",
              "    <tr>\n",
              "      <td>4</td>\n",
              "      <td>FOREST HILLS</td>\n",
              "      <td>01 ONE FAMILY DWELLINGS</td>\n",
              "      <td>1</td>\n",
              "      <td>A1</td>\n",
              "      <td>A1</td>\n",
              "      <td>-0.0085</td>\n",
              "      <td>-0.0206</td>\n",
              "      <td>-0.0532</td>\n",
              "      <td>-0.1508</td>\n",
              "      <td>14.237505</td>\n",
              "    </tr>\n",
              "    <tr>\n",
              "      <td>4</td>\n",
              "      <td>JAMAICA</td>\n",
              "      <td>02 TWO FAMILY DWELLINGS</td>\n",
              "      <td>1</td>\n",
              "      <td>S2</td>\n",
              "      <td>S2</td>\n",
              "      <td>0.3194</td>\n",
              "      <td>0.0335</td>\n",
              "      <td>0.0166</td>\n",
              "      <td>1.6466</td>\n",
              "      <td>11.526484</td>\n",
              "    </tr>\n",
              "    <tr>\n",
              "      <td>3</td>\n",
              "      <td>BRIGHTON BEACH</td>\n",
              "      <td>05 TAX CLASS 1 VACANT LAND</td>\n",
              "      <td>1B</td>\n",
              "      <td>V0</td>\n",
              "      <td>V0</td>\n",
              "      <td>-0.0356</td>\n",
              "      <td>-0.0846</td>\n",
              "      <td>-0.1230</td>\n",
              "      <td>-0.1508</td>\n",
              "      <td>11.921719</td>\n",
              "    </tr>\n",
              "    <tr>\n",
              "      <td>2</td>\n",
              "      <td>BAYCHESTER</td>\n",
              "      <td>02 TWO FAMILY DWELLINGS</td>\n",
              "      <td>1</td>\n",
              "      <td>B2</td>\n",
              "      <td>B2</td>\n",
              "      <td>-0.0194</td>\n",
              "      <td>-0.0099</td>\n",
              "      <td>0.0166</td>\n",
              "      <td>-0.1508</td>\n",
              "      <td>13.3129835</td>\n",
              "    </tr>\n",
              "    <tr>\n",
              "      <td>3</td>\n",
              "      <td>FLATBUSH-EAST</td>\n",
              "      <td>03 THREE FAMILY DWELLINGS</td>\n",
              "      <td>1</td>\n",
              "      <td>C0</td>\n",
              "      <td>C0</td>\n",
              "      <td>-0.0285</td>\n",
              "      <td>-0.0079</td>\n",
              "      <td>0.0864</td>\n",
              "      <td>-0.1508</td>\n",
              "      <td>13.3878</td>\n",
              "    </tr>\n",
              "    <tr>\n",
              "      <td>2</td>\n",
              "      <td>WILLIAMSBRIDGE</td>\n",
              "      <td>02 TWO FAMILY DWELLINGS</td>\n",
              "      <td>1</td>\n",
              "      <td>B1</td>\n",
              "      <td>B1</td>\n",
              "      <td>-0.0058</td>\n",
              "      <td>0.0021</td>\n",
              "      <td>0.0166</td>\n",
              "      <td>-0.1508</td>\n",
              "      <td>12.8992195</td>\n",
              "    </tr>\n",
              "  </tbody>\n",
              "</table>"
            ],
            "text/plain": [
              "<IPython.core.display.HTML object>"
            ]
          },
          "metadata": {
            "tags": []
          }
        }
      ]
    },
    {
      "cell_type": "code",
      "metadata": {
        "id": "SvIhIQeMMMAw",
        "colab_type": "code",
        "outputId": "7c4d7e77-e4bc-4206-8327-8c39676cbc9f",
        "colab": {
          "base_uri": "https://localhost:8080/",
          "height": 296
        }
      },
      "source": [
        "# Create deep learning model\n",
        "learn = tabular_learner(data, layers=[100, 100], metrics=rmse)\n",
        "\n",
        "# select the appropriate learning rate\n",
        "learn.lr_find()\n",
        "\n",
        "# we typically find the point where the slope is steepest\n",
        "learn.recorder.plot()"
      ],
      "execution_count": 0,
      "outputs": [
        {
          "output_type": "display_data",
          "data": {
            "text/html": [
              ""
            ],
            "text/plain": [
              "<IPython.core.display.HTML object>"
            ]
          },
          "metadata": {
            "tags": []
          }
        },
        {
          "output_type": "stream",
          "text": [
            "LR Finder is complete, type {learner_name}.recorder.plot() to see the graph.\n"
          ],
          "name": "stdout"
        },
        {
          "output_type": "display_data",
          "data": {
            "image/png": "[encoded data removed]",
            "text/plain": [
              "<Figure size 432x288 with 1 Axes>"
            ]
          },
          "metadata": {
            "tags": []
          }
        }
      ]
    },
    {
      "cell_type": "code",
      "metadata": {
        "id": "sQJX8CUldt7M",
        "colab_type": "code",
        "outputId": "064b7834-8a9b-4a13-a52e-5a9207131d7b",
        "colab": {
          "base_uri": "https://localhost:8080/",
          "height": 669
        }
      },
      "source": [
        "# Fit the model based on selected learning rate\n",
        "learn.fit_one_cycle(20, max_lr =1e-03,)"
      ],
      "execution_count": 0,
      "outputs": [
        {
          "output_type": "display_data",
          "data": {
            "text/html": [
              "<table border=\"1\" class=\"dataframe\">\n",
              "  <thead>\n",
              "    <tr style=\"text-align: left;\">\n",
              "      <th>epoch</th>\n",
              "      <th>train_loss</th>\n",
              "      <th>valid_loss</th>\n",
              "      <th>root_mean_squared_error</th>\n",
              "      <th>time</th>\n",
              "    </tr>\n",
              "  </thead>\n",
              "  <tbody>\n",
              "    <tr>\n",
              "      <td>0</td>\n",
              "      <td>166.824600</td>\n",
              "      <td>167.339813</td>\n",
              "      <td>12.935114</td>\n",
              "      <td>00:06</td>\n",
              "    </tr>\n",
              "    <tr>\n",
              "      <td>1</td>\n",
              "      <td>145.795837</td>\n",
              "      <td>143.021210</td>\n",
              "      <td>11.955709</td>\n",
              "      <td>00:06</td>\n",
              "    </tr>\n",
              "    <tr>\n",
              "      <td>2</td>\n",
              "      <td>58.173405</td>\n",
              "      <td>46.967213</td>\n",
              "      <td>6.851585</td>\n",
              "      <td>00:05</td>\n",
              "    </tr>\n",
              "    <tr>\n",
              "      <td>3</td>\n",
              "      <td>4.405716</td>\n",
              "      <td>3.654267</td>\n",
              "      <td>1.848587</td>\n",
              "      <td>00:05</td>\n",
              "    </tr>\n",
              "    <tr>\n",
              "      <td>4</td>\n",
              "      <td>3.591591</td>\n",
              "      <td>3.570382</td>\n",
              "      <td>1.772290</td>\n",
              "      <td>00:05</td>\n",
              "    </tr>\n",
              "    <tr>\n",
              "      <td>5</td>\n",
              "      <td>3.491438</td>\n",
              "      <td>4.974111</td>\n",
              "      <td>2.068980</td>\n",
              "      <td>00:05</td>\n",
              "    </tr>\n",
              "    <tr>\n",
              "      <td>6</td>\n",
              "      <td>3.060440</td>\n",
              "      <td>4.120715</td>\n",
              "      <td>1.772323</td>\n",
              "      <td>00:05</td>\n",
              "    </tr>\n",
              "    <tr>\n",
              "      <td>7</td>\n",
              "      <td>3.110218</td>\n",
              "      <td>3.213185</td>\n",
              "      <td>1.670919</td>\n",
              "      <td>00:05</td>\n",
              "    </tr>\n",
              "    <tr>\n",
              "      <td>8</td>\n",
              "      <td>3.157091</td>\n",
              "      <td>3.320865</td>\n",
              "      <td>1.722400</td>\n",
              "      <td>00:05</td>\n",
              "    </tr>\n",
              "    <tr>\n",
              "      <td>9</td>\n",
              "      <td>3.547643</td>\n",
              "      <td>3.232132</td>\n",
              "      <td>1.713026</td>\n",
              "      <td>00:06</td>\n",
              "    </tr>\n",
              "    <tr>\n",
              "      <td>10</td>\n",
              "      <td>3.268481</td>\n",
              "      <td>3.202242</td>\n",
              "      <td>1.675509</td>\n",
              "      <td>00:05</td>\n",
              "    </tr>\n",
              "    <tr>\n",
              "      <td>11</td>\n",
              "      <td>3.059529</td>\n",
              "      <td>3.969701</td>\n",
              "      <td>1.768663</td>\n",
              "      <td>00:06</td>\n",
              "    </tr>\n",
              "    <tr>\n",
              "      <td>12</td>\n",
              "      <td>2.958579</td>\n",
              "      <td>3.909049</td>\n",
              "      <td>1.786021</td>\n",
              "      <td>00:06</td>\n",
              "    </tr>\n",
              "    <tr>\n",
              "      <td>13</td>\n",
              "      <td>2.916846</td>\n",
              "      <td>4.907976</td>\n",
              "      <td>1.873995</td>\n",
              "      <td>00:05</td>\n",
              "    </tr>\n",
              "    <tr>\n",
              "      <td>14</td>\n",
              "      <td>3.348936</td>\n",
              "      <td>3.103683</td>\n",
              "      <td>1.656730</td>\n",
              "      <td>00:05</td>\n",
              "    </tr>\n",
              "    <tr>\n",
              "      <td>15</td>\n",
              "      <td>3.001432</td>\n",
              "      <td>11.321211</td>\n",
              "      <td>2.256204</td>\n",
              "      <td>00:05</td>\n",
              "    </tr>\n",
              "    <tr>\n",
              "      <td>16</td>\n",
              "      <td>2.752311</td>\n",
              "      <td>13.220021</td>\n",
              "      <td>2.396346</td>\n",
              "      <td>00:06</td>\n",
              "    </tr>\n",
              "    <tr>\n",
              "      <td>17</td>\n",
              "      <td>2.523268</td>\n",
              "      <td>3.177117</td>\n",
              "      <td>1.668851</td>\n",
              "      <td>00:06</td>\n",
              "    </tr>\n",
              "    <tr>\n",
              "      <td>18</td>\n",
              "      <td>2.952733</td>\n",
              "      <td>3.429449</td>\n",
              "      <td>1.705873</td>\n",
              "      <td>00:05</td>\n",
              "    </tr>\n",
              "    <tr>\n",
              "      <td>19</td>\n",
              "      <td>2.714364</td>\n",
              "      <td>3.929525</td>\n",
              "      <td>1.768624</td>\n",
              "      <td>00:06</td>\n",
              "    </tr>\n",
              "  </tbody>\n",
              "</table>"
            ],
            "text/plain": [
              "<IPython.core.display.HTML object>"
            ]
          },
          "metadata": {
            "tags": []
          }
        }
      ]
    },
    {
      "cell_type": "code",
      "metadata": {
        "id": "aKsLSLaWOCk8",
        "colab_type": "code",
        "outputId": "d153b82c-a221-4a76-d852-51be5bd7a4b5",
        "colab": {
          "base_uri": "https://localhost:8080/",
          "height": 279
        }
      },
      "source": [
        "# Analyse our model\n",
        "learn.model\n",
        "learn.recorder.plot_losses()\n"
      ],
      "execution_count": 0,
      "outputs": [
        {
          "output_type": "display_data",
          "data": {
            "image/png": "[encoded data removed]",
            "text/plain": [
              "<Figure size 432x288 with 1 Axes>"
            ]
          },
          "metadata": {
            "tags": []
          }
        }
      ]
    },
    {
      "cell_type": "code",
      "metadata": {
        "id": "ZJUxfgYOoobB",
        "colab_type": "code",
        "colab": {}
      },
      "source": [
        "# get predictions\n",
        "preds, targets = learn.get_preds(DatasetType.Test)\n",
        "labels = [np.exp(p[0].data.item()) for p in preds]\n"
      ],
      "execution_count": 0,
      "outputs": []
    },
    {
      "cell_type": "code",
      "metadata": {
        "id": "MMHfeWEWslo0",
        "colab_type": "code",
        "outputId": "11896903-4ecc-4d0c-d63e-2be094e4a748",
        "colab": {
          "base_uri": "https://localhost:8080/",
          "height": 119
        }
      },
      "source": [
        "preds_df = pd.Series([i[0].data.item() for i in preds])\n",
        "preds_df.head()"
      ],
      "execution_count": 0,
      "outputs": [
        {
          "output_type": "execute_result",
          "data": {
            "text/plain": [
              "0    11.710226\n",
              "1    12.389363\n",
              "2    12.810046\n",
              "3    13.066483\n",
              "4    13.111695\n",
              "dtype: float64"
            ]
          },
          "metadata": {
            "tags": []
          },
          "execution_count": 33
        }
      ]
    },
    {
      "cell_type": "code",
      "metadata": {
        "id": "78gHWXszo1cr",
        "colab_type": "code",
        "outputId": "a94a1914-0c16-4da5-d6b8-e8f662e46ef6",
        "colab": {
          "base_uri": "https://localhost:8080/",
          "height": 34
        }
      },
      "source": [
        "labels_df = pd.Series(labels)\n",
        "labels_df.shape"
      ],
      "execution_count": 0,
      "outputs": [
        {
          "output_type": "execute_result",
          "data": {
            "text/plain": [
              "(11923,)"
            ]
          },
          "metadata": {
            "tags": []
          },
          "execution_count": 34
        }
      ]
    },
    {
      "cell_type": "code",
      "metadata": {
        "id": "-fl8PzbLrpRI",
        "colab_type": "code",
        "outputId": "c3ff087c-0949-474d-eacc-9124828e79b8",
        "colab": {
          "base_uri": "https://localhost:8080/",
          "height": 34
        }
      },
      "source": [
        "df_test['SALE PRICE'].shape"
      ],
      "execution_count": 0,
      "outputs": [
        {
          "output_type": "execute_result",
          "data": {
            "text/plain": [
              "(11923,)"
            ]
          },
          "metadata": {
            "tags": []
          },
          "execution_count": 35
        }
      ]
    },
    {
      "cell_type": "code",
      "metadata": {
        "id": "aon7s7VTrr_G",
        "colab_type": "code",
        "colab": {}
      },
      "source": [
        "# model metrics package\n",
        "from sklearn.metrics import mean_squared_error as mse"
      ],
      "execution_count": 0,
      "outputs": []
    },
    {
      "cell_type": "code",
      "metadata": {
        "id": "gjtcaCJYsNKI",
        "colab_type": "code",
        "outputId": "d0ca77a9-f16a-4ec5-a26d-bbdb7f85b21a",
        "colab": {
          "base_uri": "https://localhost:8080/",
          "height": 34
        }
      },
      "source": [
        "# RMSE\n",
        "np.sqrt(mse(np.log(df_test['SALE PRICE']), preds_df))"
      ],
      "execution_count": 0,
      "outputs": [
        {
          "output_type": "execute_result",
          "data": {
            "text/plain": [
              "92.72203991081267"
            ]
          },
          "metadata": {
            "tags": []
          },
          "execution_count": 37
        }
      ]
    },
    {
      "cell_type": "code",
      "metadata": {
        "id": "zF9hJJajs1pD",
        "colab_type": "code",
        "outputId": "6c4dabfb-7c27-4cbe-ace1-4a62abdcfacc",
        "colab": {
          "base_uri": "https://localhost:8080/",
          "height": 204
        }
      },
      "source": [
        "predictions_df = pd.DataFrame({'y_true': np.log(df_test.reset_index()['SALE PRICE']), \n",
        "                               'y_pred': preds_df})\n",
        "\n",
        "# Filter for erroneous predictions\n",
        "predictions_df = predictions_df[predictions_df['y_pred'] > 0]\n",
        "\n",
        "# Filter for predictions only below max of true value\n",
        "predictions_df = predictions_df[predictions_df['y_pred'] < predictions_df['y_true'].max()]\n",
        "\n",
        "# Filter for a better looking box\n",
        "predictions_df = predictions_df[predictions_df['y_true'] > 8]\n",
        "predictions_df = predictions_df[predictions_df['y_pred'] > 8]\n",
        "predictions_df.head()"
      ],
      "execution_count": 0,
      "outputs": [
        {
          "output_type": "execute_result",
          "data": {
            "text/html": [
              "<div>\n",
              "<style scoped>\n",
              "    .dataframe tbody tr th:only-of-type {\n",
              "        vertical-align: middle;\n",
              "    }\n",
              "\n",
              "    .dataframe tbody tr th {\n",
              "        vertical-align: top;\n",
              "    }\n",
              "\n",
              "    .dataframe thead th {\n",
              "        text-align: right;\n",
              "    }\n",
              "</style>\n",
              "<table border=\"1\" class=\"dataframe\">\n",
              "  <thead>\n",
              "    <tr style=\"text-align: right;\">\n",
              "      <th></th>\n",
              "      <th>y_true</th>\n",
              "      <th>y_pred</th>\n",
              "    </tr>\n",
              "  </thead>\n",
              "  <tbody>\n",
              "    <tr>\n",
              "      <th>1</th>\n",
              "      <td>11.407565</td>\n",
              "      <td>12.389363</td>\n",
              "    </tr>\n",
              "    <tr>\n",
              "      <th>3</th>\n",
              "      <td>13.415033</td>\n",
              "      <td>13.066483</td>\n",
              "    </tr>\n",
              "    <tr>\n",
              "      <th>4</th>\n",
              "      <td>13.091904</td>\n",
              "      <td>13.111695</td>\n",
              "    </tr>\n",
              "    <tr>\n",
              "      <th>5</th>\n",
              "      <td>8.978156</td>\n",
              "      <td>13.399941</td>\n",
              "    </tr>\n",
              "    <tr>\n",
              "      <th>6</th>\n",
              "      <td>13.102161</td>\n",
              "      <td>12.583257</td>\n",
              "    </tr>\n",
              "  </tbody>\n",
              "</table>\n",
              "</div>"
            ],
            "text/plain": [
              "      y_true     y_pred\n",
              "1  11.407565  12.389363\n",
              "3  13.415033  13.066483\n",
              "4  13.091904  13.111695\n",
              "5   8.978156  13.399941\n",
              "6  13.102161  12.583257"
            ]
          },
          "metadata": {
            "tags": []
          },
          "execution_count": 38
        }
      ]
    },
    {
      "cell_type": "code",
      "metadata": {
        "id": "KPhrhD_LtRlV",
        "colab_type": "code",
        "outputId": "c090e1c6-ff77-4f6e-d30e-6b857a02b415",
        "colab": {
          "base_uri": "https://localhost:8080/",
          "height": 297
        }
      },
      "source": [
        "sns.scatterplot(data=predictions_df,\n",
        "                 x='y_true',\n",
        "                 y='y_pred')"
      ],
      "execution_count": 0,
      "outputs": [
        {
          "output_type": "execute_result",
          "data": {
            "text/plain": [
              "<matplotlib.axes._subplots.AxesSubplot at 0x7f1ca45596a0>"
            ]
          },
          "metadata": {
            "tags": []
          },
          "execution_count": 39
        },
        {
          "output_type": "display_data",
          "data": {
            "image/png": "[encoded data removed]",
            "text/plain": [
              "<Figure size 432x288 with 1 Axes>"
            ]
          },
          "metadata": {
            "tags": []
          }
        }
      ]
    },
    {
      "cell_type": "code",
      "metadata": {
        "id": "lloMkeq8pvgW",
        "colab_type": "code",
        "colab": {}
      },
      "source": [
        ""
      ],
      "execution_count": 0,
      "outputs": []
    }
  ]
}