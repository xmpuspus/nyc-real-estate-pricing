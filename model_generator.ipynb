{
 "cells": [
  {
   "cell_type": "markdown",
   "metadata": {},
   "source": [
    "# Load Packages"
   ]
  },
  {
   "cell_type": "code",
   "execution_count": 1,
   "metadata": {},
   "outputs": [],
   "source": [
    "import pandas as pd\n",
    "import numpy as np\n",
    "import matplotlib.pyplot as plt\n",
    "import seaborn as sns\n",
    "\n",
    "pd.options.display.max_columns = 999\n",
    "pd.options.display.max_rows = 999\n",
    "\n",
    "from sklearn.linear_model import LinearRegression \n",
    "from sklearn.model_selection import train_test_split\n",
    "import joblib"
   ]
  },
  {
   "cell_type": "code",
   "execution_count": 2,
   "metadata": {},
   "outputs": [],
   "source": [
    "# Ensemble Methods\n",
    "from sklearn.ensemble import RandomForestRegressor\n",
    "from sklearn.ensemble import GradientBoostingRegressor\n",
    "from sklearn.metrics import mean_squared_error as mse"
   ]
  },
  {
   "cell_type": "code",
   "execution_count": 14,
   "metadata": {},
   "outputs": [
    {
     "name": "stdout",
     "output_type": "stream",
     "text": [
      "Collecting pandas_profiling\n",
      "\u001b[?25l  Downloading https://files.pythonhosted.org/packages/2c/2f/aae19e2173c10a9bb7fee5f5cad35dbe53a393960fc91abc477dcc4661e8/pandas-profiling-2.3.0.tar.gz (127kB)\n",
      "\u001b[K     |████████████████████████████████| 133kB 803kB/s eta 0:00:01\n",
      "\u001b[?25hRequirement already satisfied: pandas>=0.19 in /Users/xmpuspus/anaconda3/lib/python3.7/site-packages (from pandas_profiling) (0.25.3)\n",
      "Requirement already satisfied: matplotlib>=1.4 in /Users/xmpuspus/anaconda3/lib/python3.7/site-packages (from pandas_profiling) (3.1.2)\n",
      "Requirement already satisfied: jinja2>=2.8 in /Users/xmpuspus/anaconda3/lib/python3.7/site-packages (from pandas_profiling) (2.10.3)\n",
      "Collecting missingno>=0.4.2\n",
      "  Downloading https://files.pythonhosted.org/packages/2b/de/6e4dd6d720c49939544352155dc06a08c9f7e4271aa631a559dfbeaaf9d4/missingno-0.4.2-py3-none-any.whl\n",
      "Collecting htmlmin>=0.1.12\n",
      "  Downloading https://files.pythonhosted.org/packages/b3/e7/fcd59e12169de19f0131ff2812077f964c6b960e7c09804d30a7bf2ab461/htmlmin-0.1.12.tar.gz\n",
      "Collecting phik>=0.9.8\n",
      "\u001b[?25l  Downloading https://files.pythonhosted.org/packages/45/ad/24a16fa4ba612fb96a3c4bb115a5b9741483f53b66d3d3afd987f20fa227/phik-0.9.8-py3-none-any.whl (606kB)\n",
      "\u001b[K     |████████████████████████████████| 614kB 3.6MB/s eta 0:00:01\n",
      "\u001b[?25hCollecting confuse>=1.0.0\n",
      "  Downloading https://files.pythonhosted.org/packages/4c/6f/90e860cba937c174d8b3775729ccc6377eb91f52ad4eeb008e7252a3646d/confuse-1.0.0.tar.gz\n",
      "Requirement already satisfied: astropy in /Users/xmpuspus/anaconda3/lib/python3.7/site-packages (from pandas_profiling) (3.2.3)\n",
      "Requirement already satisfied: python-dateutil>=2.6.1 in /Users/xmpuspus/anaconda3/lib/python3.7/site-packages (from pandas>=0.19->pandas_profiling) (2.8.1)\n",
      "Requirement already satisfied: numpy>=1.13.3 in /Users/xmpuspus/anaconda3/lib/python3.7/site-packages (from pandas>=0.19->pandas_profiling) (1.17.4)\n",
      "Requirement already satisfied: pytz>=2017.2 in /Users/xmpuspus/anaconda3/lib/python3.7/site-packages (from pandas>=0.19->pandas_profiling) (2019.3)\n",
      "Requirement already satisfied: pyparsing!=2.0.4,!=2.1.2,!=2.1.6,>=2.0.1 in /Users/xmpuspus/anaconda3/lib/python3.7/site-packages (from matplotlib>=1.4->pandas_profiling) (2.4.5)\n",
      "Requirement already satisfied: cycler>=0.10 in /Users/xmpuspus/anaconda3/lib/python3.7/site-packages (from matplotlib>=1.4->pandas_profiling) (0.10.0)\n",
      "Requirement already satisfied: kiwisolver>=1.0.1 in /Users/xmpuspus/anaconda3/lib/python3.7/site-packages (from matplotlib>=1.4->pandas_profiling) (1.1.0)\n",
      "Requirement already satisfied: MarkupSafe>=0.23 in /Users/xmpuspus/anaconda3/lib/python3.7/site-packages (from jinja2>=2.8->pandas_profiling) (1.1.1)\n",
      "Requirement already satisfied: seaborn in /Users/xmpuspus/anaconda3/lib/python3.7/site-packages (from missingno>=0.4.2->pandas_profiling) (0.9.0)\n",
      "Requirement already satisfied: scipy in /Users/xmpuspus/anaconda3/lib/python3.7/site-packages (from missingno>=0.4.2->pandas_profiling) (1.3.1)\n",
      "Collecting pytest-pylint>=0.13.0\n",
      "  Downloading https://files.pythonhosted.org/packages/64/dc/6f35f114844fb12e38d60c4f3d2441a55baff7043ad4e013777dff55746c/pytest_pylint-0.14.1-py3-none-any.whl\n",
      "Requirement already satisfied: nbconvert>=5.3.1 in /Users/xmpuspus/anaconda3/lib/python3.7/site-packages (from phik>=0.9.8->pandas_profiling) (5.6.1)\n",
      "Requirement already satisfied: pytest>=4.0.2 in /Users/xmpuspus/anaconda3/lib/python3.7/site-packages (from phik>=0.9.8->pandas_profiling) (5.3.0)\n",
      "Requirement already satisfied: numba>=0.38.1 in /Users/xmpuspus/anaconda3/lib/python3.7/site-packages (from phik>=0.9.8->pandas_profiling) (0.46.0)\n",
      "Requirement already satisfied: jupyter-client>=5.2.3 in /Users/xmpuspus/anaconda3/lib/python3.7/site-packages (from phik>=0.9.8->pandas_profiling) (5.3.3)\n",
      "Requirement already satisfied: pyyaml in /Users/xmpuspus/anaconda3/lib/python3.7/site-packages (from confuse>=1.0.0->pandas_profiling) (5.1.2)\n",
      "Requirement already satisfied: six>=1.5 in /Users/xmpuspus/anaconda3/lib/python3.7/site-packages (from python-dateutil>=2.6.1->pandas>=0.19->pandas_profiling) (1.13.0)\n",
      "Requirement already satisfied: setuptools in /Users/xmpuspus/anaconda3/lib/python3.7/site-packages (from kiwisolver>=1.0.1->matplotlib>=1.4->pandas_profiling) (41.6.0)\n",
      "Requirement already satisfied: pylint>=1.4.5 in /Users/xmpuspus/anaconda3/lib/python3.7/site-packages (from pytest-pylint>=0.13.0->phik>=0.9.8->pandas_profiling) (2.4.4)\n",
      "Requirement already satisfied: nbformat>=4.4 in /Users/xmpuspus/anaconda3/lib/python3.7/site-packages (from nbconvert>=5.3.1->phik>=0.9.8->pandas_profiling) (4.4.0)\n",
      "Requirement already satisfied: bleach in /Users/xmpuspus/anaconda3/lib/python3.7/site-packages (from nbconvert>=5.3.1->phik>=0.9.8->pandas_profiling) (3.1.0)\n",
      "Requirement already satisfied: entrypoints>=0.2.2 in /Users/xmpuspus/anaconda3/lib/python3.7/site-packages (from nbconvert>=5.3.1->phik>=0.9.8->pandas_profiling) (0.3)\n",
      "Requirement already satisfied: jupyter-core in /Users/xmpuspus/anaconda3/lib/python3.7/site-packages (from nbconvert>=5.3.1->phik>=0.9.8->pandas_profiling) (4.6.1)\n",
      "Requirement already satisfied: pandocfilters>=1.4.1 in /Users/xmpuspus/anaconda3/lib/python3.7/site-packages (from nbconvert>=5.3.1->phik>=0.9.8->pandas_profiling) (1.4.2)\n",
      "Requirement already satisfied: mistune<2,>=0.8.1 in /Users/xmpuspus/anaconda3/lib/python3.7/site-packages (from nbconvert>=5.3.1->phik>=0.9.8->pandas_profiling) (0.8.4)\n",
      "Requirement already satisfied: traitlets>=4.2 in /Users/xmpuspus/anaconda3/lib/python3.7/site-packages (from nbconvert>=5.3.1->phik>=0.9.8->pandas_profiling) (4.3.3)\n",
      "Requirement already satisfied: testpath in /Users/xmpuspus/anaconda3/lib/python3.7/site-packages (from nbconvert>=5.3.1->phik>=0.9.8->pandas_profiling) (0.4.4)\n",
      "Requirement already satisfied: defusedxml in /Users/xmpuspus/anaconda3/lib/python3.7/site-packages (from nbconvert>=5.3.1->phik>=0.9.8->pandas_profiling) (0.6.0)\n",
      "Requirement already satisfied: pygments in /Users/xmpuspus/anaconda3/lib/python3.7/site-packages (from nbconvert>=5.3.1->phik>=0.9.8->pandas_profiling) (2.4.2)\n",
      "Requirement already satisfied: py>=1.5.0 in /Users/xmpuspus/anaconda3/lib/python3.7/site-packages (from pytest>=4.0.2->phik>=0.9.8->pandas_profiling) (1.8.0)\n",
      "Requirement already satisfied: packaging in /Users/xmpuspus/anaconda3/lib/python3.7/site-packages (from pytest>=4.0.2->phik>=0.9.8->pandas_profiling) (19.2)\n",
      "Requirement already satisfied: attrs>=17.4.0 in /Users/xmpuspus/anaconda3/lib/python3.7/site-packages (from pytest>=4.0.2->phik>=0.9.8->pandas_profiling) (19.3.0)\n",
      "Requirement already satisfied: more-itertools>=4.0.0 in /Users/xmpuspus/anaconda3/lib/python3.7/site-packages (from pytest>=4.0.2->phik>=0.9.8->pandas_profiling) (7.2.0)\n",
      "Requirement already satisfied: pluggy<1.0,>=0.12 in /Users/xmpuspus/anaconda3/lib/python3.7/site-packages (from pytest>=4.0.2->phik>=0.9.8->pandas_profiling) (0.12.0)\n",
      "Requirement already satisfied: wcwidth in /Users/xmpuspus/anaconda3/lib/python3.7/site-packages (from pytest>=4.0.2->phik>=0.9.8->pandas_profiling) (0.1.7)\n",
      "Requirement already satisfied: importlib-metadata>=0.12 in /Users/xmpuspus/anaconda3/lib/python3.7/site-packages (from pytest>=4.0.2->phik>=0.9.8->pandas_profiling) (0.23)\n",
      "Requirement already satisfied: llvmlite>=0.30.0dev0 in /Users/xmpuspus/anaconda3/lib/python3.7/site-packages (from numba>=0.38.1->phik>=0.9.8->pandas_profiling) (0.30.0)\n",
      "Requirement already satisfied: tornado>=4.1 in /Users/xmpuspus/anaconda3/lib/python3.7/site-packages (from jupyter-client>=5.2.3->phik>=0.9.8->pandas_profiling) (6.0.3)\n",
      "Requirement already satisfied: pyzmq>=13 in /Users/xmpuspus/anaconda3/lib/python3.7/site-packages (from jupyter-client>=5.2.3->phik>=0.9.8->pandas_profiling) (18.1.1)\n",
      "Requirement already satisfied: astroid<2.4,>=2.3.0 in /Users/xmpuspus/anaconda3/lib/python3.7/site-packages (from pylint>=1.4.5->pytest-pylint>=0.13.0->phik>=0.9.8->pandas_profiling) (2.3.3)\n",
      "Requirement already satisfied: mccabe<0.7,>=0.6 in /Users/xmpuspus/anaconda3/lib/python3.7/site-packages (from pylint>=1.4.5->pytest-pylint>=0.13.0->phik>=0.9.8->pandas_profiling) (0.6.1)\n",
      "Requirement already satisfied: isort<5,>=4.2.5 in /Users/xmpuspus/anaconda3/lib/python3.7/site-packages (from pylint>=1.4.5->pytest-pylint>=0.13.0->phik>=0.9.8->pandas_profiling) (4.3.21)\n",
      "Requirement already satisfied: ipython_genutils in /Users/xmpuspus/anaconda3/lib/python3.7/site-packages (from nbformat>=4.4->nbconvert>=5.3.1->phik>=0.9.8->pandas_profiling) (0.2.0)\n",
      "Requirement already satisfied: jsonschema!=2.5.0,>=2.4 in /Users/xmpuspus/anaconda3/lib/python3.7/site-packages (from nbformat>=4.4->nbconvert>=5.3.1->phik>=0.9.8->pandas_profiling) (3.2.0)\n",
      "Requirement already satisfied: webencodings in /Users/xmpuspus/anaconda3/lib/python3.7/site-packages (from bleach->nbconvert>=5.3.1->phik>=0.9.8->pandas_profiling) (0.5.1)\n",
      "Requirement already satisfied: decorator in /Users/xmpuspus/anaconda3/lib/python3.7/site-packages (from traitlets>=4.2->nbconvert>=5.3.1->phik>=0.9.8->pandas_profiling) (4.4.1)\n",
      "Requirement already satisfied: zipp>=0.5 in /Users/xmpuspus/anaconda3/lib/python3.7/site-packages (from importlib-metadata>=0.12->pytest>=4.0.2->phik>=0.9.8->pandas_profiling) (0.6.0)\n",
      "Requirement already satisfied: lazy-object-proxy==1.4.* in /Users/xmpuspus/anaconda3/lib/python3.7/site-packages (from astroid<2.4,>=2.3.0->pylint>=1.4.5->pytest-pylint>=0.13.0->phik>=0.9.8->pandas_profiling) (1.4.3)\n",
      "Collecting typed-ast<1.5,>=1.4.0; implementation_name == \"cpython\" and python_version < \"3.8\"\n",
      "\u001b[?25l  Downloading https://files.pythonhosted.org/packages/a0/03/266268b053ad81b8aea17bc3f5e6d3cf074bb4372d229336867a67e17076/typed_ast-1.4.0-cp37-cp37m-macosx_10_9_x86_64.whl (215kB)\n",
      "\u001b[K     |████████████████████████████████| 225kB 2.9MB/s eta 0:00:01\n",
      "\u001b[?25hRequirement already satisfied: wrapt==1.11.* in /Users/xmpuspus/anaconda3/lib/python3.7/site-packages (from astroid<2.4,>=2.3.0->pylint>=1.4.5->pytest-pylint>=0.13.0->phik>=0.9.8->pandas_profiling) (1.11.2)\n",
      "Requirement already satisfied: pyrsistent>=0.14.0 in /Users/xmpuspus/anaconda3/lib/python3.7/site-packages (from jsonschema!=2.5.0,>=2.4->nbformat>=4.4->nbconvert>=5.3.1->phik>=0.9.8->pandas_profiling) (0.15.5)\n",
      "Building wheels for collected packages: pandas-profiling, htmlmin, confuse\n",
      "  Building wheel for pandas-profiling (setup.py) ... \u001b[?25ldone\n",
      "\u001b[?25h  Created wheel for pandas-profiling: filename=pandas_profiling-2.3.0-py2.py3-none-any.whl size=145035 sha256=8746af07bc32c1b89691c16d5e56a49a2a4bc9cb9c1a610745c1915137354ec2\n",
      "  Stored in directory: /Users/xmpuspus/Library/Caches/pip/wheels/ce/c7/f1/dbfef4848ebb048cb1d4a22d1ed0c62d8ff2523747235e19fe\n",
      "  Building wheel for htmlmin (setup.py) ... \u001b[?25ldone\n",
      "\u001b[?25h  Created wheel for htmlmin: filename=htmlmin-0.1.12-cp37-none-any.whl size=27086 sha256=f354f5cc372d44a3e77dc0509adc39c9bc79e87e8ed7f34d47b09f8b2ff2b445\n",
      "  Stored in directory: /Users/xmpuspus/Library/Caches/pip/wheels/43/07/ac/7c5a9d708d65247ac1f94066cf1db075540b85716c30255459\n",
      "  Building wheel for confuse (setup.py) ... \u001b[?25ldone\n",
      "\u001b[?25h  Created wheel for confuse: filename=confuse-1.0.0-cp37-none-any.whl size=17486 sha256=b840ecdcb24fcec002208264298c4a9a6ad9b91e3af409505a6ecf7dc3f08759\n",
      "  Stored in directory: /Users/xmpuspus/Library/Caches/pip/wheels/b0/b2/96/2074eee7dbf7b7df69d004c9b6ac4e32dad04fb7666cf943bd\n",
      "Successfully built pandas-profiling htmlmin confuse\n",
      "Installing collected packages: missingno, htmlmin, pytest-pylint, phik, confuse, pandas-profiling, typed-ast\n",
      "Successfully installed confuse-1.0.0 htmlmin-0.1.12 missingno-0.4.2 pandas-profiling-2.3.0 phik-0.9.8 pytest-pylint-0.14.1 typed-ast-1.4.0\n"
     ]
    }
   ],
   "source": [
    "!pip install pandas_profiling"
   ]
  },
  {
   "cell_type": "code",
   "execution_count": 15,
   "metadata": {},
   "outputs": [],
   "source": [
    "import pandas_profiling as pp"
   ]
  },
  {
   "cell_type": "markdown",
   "metadata": {},
   "source": [
    "# Load Data"
   ]
  },
  {
   "cell_type": "code",
   "execution_count": 18,
   "metadata": {},
   "outputs": [],
   "source": [
    "data = pd.read_csv('data/nyc-rolling-sales.csv')"
   ]
  },
  {
   "cell_type": "code",
   "execution_count": 19,
   "metadata": {},
   "outputs": [
    {
     "data": {
      "text/html": [
       "<div>\n",
       "<style scoped>\n",
       "    .dataframe tbody tr th:only-of-type {\n",
       "        vertical-align: middle;\n",
       "    }\n",
       "\n",
       "    .dataframe tbody tr th {\n",
       "        vertical-align: top;\n",
       "    }\n",
       "\n",
       "    .dataframe thead th {\n",
       "        text-align: right;\n",
       "    }\n",
       "</style>\n",
       "<table border=\"1\" class=\"dataframe\">\n",
       "  <thead>\n",
       "    <tr style=\"text-align: right;\">\n",
       "      <th></th>\n",
       "      <th>Unnamed: 0</th>\n",
       "      <th>BOROUGH</th>\n",
       "      <th>NEIGHBORHOOD</th>\n",
       "      <th>BUILDING CLASS CATEGORY</th>\n",
       "      <th>TAX CLASS AT PRESENT</th>\n",
       "      <th>BLOCK</th>\n",
       "      <th>LOT</th>\n",
       "      <th>EASE-MENT</th>\n",
       "      <th>BUILDING CLASS AT PRESENT</th>\n",
       "      <th>ADDRESS</th>\n",
       "      <th>APARTMENT NUMBER</th>\n",
       "      <th>ZIP CODE</th>\n",
       "      <th>RESIDENTIAL UNITS</th>\n",
       "      <th>COMMERCIAL UNITS</th>\n",
       "      <th>TOTAL UNITS</th>\n",
       "      <th>LAND SQUARE FEET</th>\n",
       "      <th>GROSS SQUARE FEET</th>\n",
       "      <th>YEAR BUILT</th>\n",
       "      <th>TAX CLASS AT TIME OF SALE</th>\n",
       "      <th>BUILDING CLASS AT TIME OF SALE</th>\n",
       "      <th>SALE PRICE</th>\n",
       "      <th>SALE DATE</th>\n",
       "    </tr>\n",
       "  </thead>\n",
       "  <tbody>\n",
       "    <tr>\n",
       "      <th>0</th>\n",
       "      <td>4</td>\n",
       "      <td>1</td>\n",
       "      <td>ALPHABET CITY</td>\n",
       "      <td>07 RENTALS - WALKUP APARTMENTS</td>\n",
       "      <td>2A</td>\n",
       "      <td>392</td>\n",
       "      <td>6</td>\n",
       "      <td></td>\n",
       "      <td>C2</td>\n",
       "      <td>153 AVENUE B</td>\n",
       "      <td></td>\n",
       "      <td>10009</td>\n",
       "      <td>5</td>\n",
       "      <td>0</td>\n",
       "      <td>5</td>\n",
       "      <td>1633</td>\n",
       "      <td>6440</td>\n",
       "      <td>1900</td>\n",
       "      <td>2</td>\n",
       "      <td>C2</td>\n",
       "      <td>6625000</td>\n",
       "      <td>2017-07-19 00:00:00</td>\n",
       "    </tr>\n",
       "    <tr>\n",
       "      <th>1</th>\n",
       "      <td>5</td>\n",
       "      <td>1</td>\n",
       "      <td>ALPHABET CITY</td>\n",
       "      <td>07 RENTALS - WALKUP APARTMENTS</td>\n",
       "      <td>2</td>\n",
       "      <td>399</td>\n",
       "      <td>26</td>\n",
       "      <td></td>\n",
       "      <td>C7</td>\n",
       "      <td>234 EAST 4TH   STREET</td>\n",
       "      <td></td>\n",
       "      <td>10009</td>\n",
       "      <td>28</td>\n",
       "      <td>3</td>\n",
       "      <td>31</td>\n",
       "      <td>4616</td>\n",
       "      <td>18690</td>\n",
       "      <td>1900</td>\n",
       "      <td>2</td>\n",
       "      <td>C7</td>\n",
       "      <td>-</td>\n",
       "      <td>2016-12-14 00:00:00</td>\n",
       "    </tr>\n",
       "    <tr>\n",
       "      <th>2</th>\n",
       "      <td>6</td>\n",
       "      <td>1</td>\n",
       "      <td>ALPHABET CITY</td>\n",
       "      <td>07 RENTALS - WALKUP APARTMENTS</td>\n",
       "      <td>2</td>\n",
       "      <td>399</td>\n",
       "      <td>39</td>\n",
       "      <td></td>\n",
       "      <td>C7</td>\n",
       "      <td>197 EAST 3RD   STREET</td>\n",
       "      <td></td>\n",
       "      <td>10009</td>\n",
       "      <td>16</td>\n",
       "      <td>1</td>\n",
       "      <td>17</td>\n",
       "      <td>2212</td>\n",
       "      <td>7803</td>\n",
       "      <td>1900</td>\n",
       "      <td>2</td>\n",
       "      <td>C7</td>\n",
       "      <td>-</td>\n",
       "      <td>2016-12-09 00:00:00</td>\n",
       "    </tr>\n",
       "    <tr>\n",
       "      <th>3</th>\n",
       "      <td>7</td>\n",
       "      <td>1</td>\n",
       "      <td>ALPHABET CITY</td>\n",
       "      <td>07 RENTALS - WALKUP APARTMENTS</td>\n",
       "      <td>2B</td>\n",
       "      <td>402</td>\n",
       "      <td>21</td>\n",
       "      <td></td>\n",
       "      <td>C4</td>\n",
       "      <td>154 EAST 7TH STREET</td>\n",
       "      <td></td>\n",
       "      <td>10009</td>\n",
       "      <td>10</td>\n",
       "      <td>0</td>\n",
       "      <td>10</td>\n",
       "      <td>2272</td>\n",
       "      <td>6794</td>\n",
       "      <td>1913</td>\n",
       "      <td>2</td>\n",
       "      <td>C4</td>\n",
       "      <td>3936272</td>\n",
       "      <td>2016-09-23 00:00:00</td>\n",
       "    </tr>\n",
       "    <tr>\n",
       "      <th>4</th>\n",
       "      <td>8</td>\n",
       "      <td>1</td>\n",
       "      <td>ALPHABET CITY</td>\n",
       "      <td>07 RENTALS - WALKUP APARTMENTS</td>\n",
       "      <td>2A</td>\n",
       "      <td>404</td>\n",
       "      <td>55</td>\n",
       "      <td></td>\n",
       "      <td>C2</td>\n",
       "      <td>301 EAST 10TH   STREET</td>\n",
       "      <td></td>\n",
       "      <td>10009</td>\n",
       "      <td>6</td>\n",
       "      <td>0</td>\n",
       "      <td>6</td>\n",
       "      <td>2369</td>\n",
       "      <td>4615</td>\n",
       "      <td>1900</td>\n",
       "      <td>2</td>\n",
       "      <td>C2</td>\n",
       "      <td>8000000</td>\n",
       "      <td>2016-11-17 00:00:00</td>\n",
       "    </tr>\n",
       "  </tbody>\n",
       "</table>\n",
       "</div>"
      ],
      "text/plain": [
       "   Unnamed: 0  BOROUGH   NEIGHBORHOOD  \\\n",
       "0           4        1  ALPHABET CITY   \n",
       "1           5        1  ALPHABET CITY   \n",
       "2           6        1  ALPHABET CITY   \n",
       "3           7        1  ALPHABET CITY   \n",
       "4           8        1  ALPHABET CITY   \n",
       "\n",
       "                       BUILDING CLASS CATEGORY TAX CLASS AT PRESENT  BLOCK  \\\n",
       "0  07 RENTALS - WALKUP APARTMENTS                                2A    392   \n",
       "1  07 RENTALS - WALKUP APARTMENTS                                 2    399   \n",
       "2  07 RENTALS - WALKUP APARTMENTS                                 2    399   \n",
       "3  07 RENTALS - WALKUP APARTMENTS                                2B    402   \n",
       "4  07 RENTALS - WALKUP APARTMENTS                                2A    404   \n",
       "\n",
       "   LOT EASE-MENT BUILDING CLASS AT PRESENT                 ADDRESS  \\\n",
       "0    6                                  C2            153 AVENUE B   \n",
       "1   26                                  C7   234 EAST 4TH   STREET   \n",
       "2   39                                  C7   197 EAST 3RD   STREET   \n",
       "3   21                                  C4     154 EAST 7TH STREET   \n",
       "4   55                                  C2  301 EAST 10TH   STREET   \n",
       "\n",
       "  APARTMENT NUMBER  ZIP CODE  RESIDENTIAL UNITS  COMMERCIAL UNITS  \\\n",
       "0                      10009                  5                 0   \n",
       "1                      10009                 28                 3   \n",
       "2                      10009                 16                 1   \n",
       "3                      10009                 10                 0   \n",
       "4                      10009                  6                 0   \n",
       "\n",
       "   TOTAL UNITS LAND SQUARE FEET GROSS SQUARE FEET  YEAR BUILT  \\\n",
       "0            5             1633              6440        1900   \n",
       "1           31             4616             18690        1900   \n",
       "2           17             2212              7803        1900   \n",
       "3           10             2272              6794        1913   \n",
       "4            6             2369              4615        1900   \n",
       "\n",
       "   TAX CLASS AT TIME OF SALE BUILDING CLASS AT TIME OF SALE SALE PRICE  \\\n",
       "0                          2                             C2    6625000   \n",
       "1                          2                             C7        -     \n",
       "2                          2                             C7        -     \n",
       "3                          2                             C4    3936272   \n",
       "4                          2                             C2    8000000   \n",
       "\n",
       "             SALE DATE  \n",
       "0  2017-07-19 00:00:00  \n",
       "1  2016-12-14 00:00:00  \n",
       "2  2016-12-09 00:00:00  \n",
       "3  2016-09-23 00:00:00  \n",
       "4  2016-11-17 00:00:00  "
      ]
     },
     "execution_count": 19,
     "metadata": {},
     "output_type": "execute_result"
    }
   ],
   "source": [
    "data.head()"
   ]
  },
  {
   "cell_type": "code",
   "execution_count": 24,
   "metadata": {},
   "outputs": [],
   "source": [
    "report = pp.ProfileReport(data, title='Data Assessment')"
   ]
  },
  {
   "cell_type": "code",
   "execution_count": 25,
   "metadata": {},
   "outputs": [],
   "source": [
    "report.to_file('data_assessment.html')"
   ]
  },
  {
   "cell_type": "markdown",
   "metadata": {},
   "source": [
    "# Clean Data"
   ]
  },
  {
   "cell_type": "code",
   "execution_count": 6,
   "metadata": {},
   "outputs": [],
   "source": [
    "### Clean Data\n",
    "# Convert to float\n",
    "data['SALE PRICE'] = pd.to_numeric(data['SALE PRICE'], errors='coerce')\n",
    "data['SALE PRICE'] = data['SALE PRICE'].fillna(0)\n",
    "\n",
    "data['GROSS SQUARE FEET'] = pd.to_numeric(data['GROSS SQUARE FEET'], errors='coerce')\n",
    "data['LAND SQUARE FEET'] = pd.to_numeric(data['LAND SQUARE FEET'], errors='coerce')\n",
    "\n",
    "# Convert to date\n",
    "data['SALE DATE'] = pd.to_datetime(data['SALE DATE'], errors='coerce')\n",
    "\n",
    "\n",
    "# Remove 5th and 95th percentile tails\n",
    "zero = 0\n",
    "fifth = data['SALE PRICE'].describe(np.arange(0.05, 1, 0.05)).T['15%']\n",
    "ninetyfifth = data['SALE PRICE'].describe(np.arange(0.05, 1, 0.05)).T['95%']\n",
    "data = data[(data['SALE PRICE'] > zero) &\n",
    "             (data['SALE PRICE'] <= ninetyfifth)].copy()\n",
    "\n",
    "# Handle Missing Values by Dropping (for now)\n",
    "data.dropna(inplace=True)\n"
   ]
  },
  {
   "cell_type": "code",
   "execution_count": 7,
   "metadata": {},
   "outputs": [
    {
     "data": {
      "text/plain": [
       "(36128, 22)"
      ]
     },
     "execution_count": 7,
     "metadata": {},
     "output_type": "execute_result"
    }
   ],
   "source": [
    "data.shape"
   ]
  },
  {
   "cell_type": "code",
   "execution_count": 8,
   "metadata": {},
   "outputs": [
    {
     "data": {
      "text/plain": [
       "<matplotlib.axes._subplots.AxesSubplot at 0x1a1616a490>"
      ]
     },
     "execution_count": 8,
     "metadata": {},
     "output_type": "execute_result"
    },
    {
     "data": {
      "image/png": "[encoded data removed]",
      "text/plain": [
       "<Figure size 432x288 with 1 Axes>"
      ]
     },
     "metadata": {
      "needs_background": "light"
     },
     "output_type": "display_data"
    }
   ],
   "source": [
    "sns.distplot(data['SALE PRICE'], kde=False)"
   ]
  },
  {
   "cell_type": "code",
   "execution_count": 9,
   "metadata": {},
   "outputs": [],
   "source": [
    "dep_var = 'SALE PRICE'\n",
    "cat_names = ['BOROUGH', 'NEIGHBORHOOD', 'BUILDING CLASS CATEGORY', 'TAX CLASS AT PRESENT',\n",
    "              'BUILDING CLASS AT PRESENT', 'BUILDING CLASS AT TIME OF SALE']\n",
    "cont_names = ['LAND SQUARE FEET', 'GROSS SQUARE FEET', 'RESIDENTIAL UNITS', \n",
    "              'COMMERCIAL UNITS']"
   ]
  },
  {
   "cell_type": "markdown",
   "metadata": {},
   "source": [
    "# Feature Engineering"
   ]
  },
  {
   "cell_type": "code",
   "execution_count": 10,
   "metadata": {},
   "outputs": [],
   "source": [
    "# Multihot encode categorical variables\n",
    "df_cat = pd.get_dummies(data[cat_names].astype(str))\n",
    "\n",
    "# Reassign numerical to diff df\n",
    "df_cont = data[cont_names]\n",
    "\n",
    "# Normalize numerical features\n",
    "df_cont_norm = (df_cont-df_cont.min())/(df_cont.max()-df_cont.min())\n",
    "\n",
    "# Concatenate features\n",
    "X = pd.concat([df_cat, df_cont_norm], axis=1)\n",
    "\n",
    "# Get dependent variable and store as different df series\n",
    "y = np.log(data[dep_var])"
   ]
  },
  {
   "cell_type": "code",
   "execution_count": 11,
   "metadata": {},
   "outputs": [
    {
     "data": {
      "text/html": [
       "<style  type=\"text/css\" >\n",
       "    #T_20056e80_0d02_11ea_b819_8c8590ccd576row0_col0 {\n",
       "            background-color:  #b40426;\n",
       "            color:  #f1f1f1;\n",
       "        }    #T_20056e80_0d02_11ea_b819_8c8590ccd576row0_col1 {\n",
       "            background-color:  #ef886b;\n",
       "            color:  #000000;\n",
       "        }    #T_20056e80_0d02_11ea_b819_8c8590ccd576row0_col2 {\n",
       "            background-color:  #f6bda2;\n",
       "            color:  #000000;\n",
       "        }    #T_20056e80_0d02_11ea_b819_8c8590ccd576row0_col3 {\n",
       "            background-color:  #4055c8;\n",
       "            color:  #f1f1f1;\n",
       "        }    #T_20056e80_0d02_11ea_b819_8c8590ccd576row1_col0 {\n",
       "            background-color:  #ef886b;\n",
       "            color:  #000000;\n",
       "        }    #T_20056e80_0d02_11ea_b819_8c8590ccd576row1_col1 {\n",
       "            background-color:  #b40426;\n",
       "            color:  #f1f1f1;\n",
       "        }    #T_20056e80_0d02_11ea_b819_8c8590ccd576row1_col2 {\n",
       "            background-color:  #df634e;\n",
       "            color:  #000000;\n",
       "        }    #T_20056e80_0d02_11ea_b819_8c8590ccd576row1_col3 {\n",
       "            background-color:  #3e51c5;\n",
       "            color:  #f1f1f1;\n",
       "        }    #T_20056e80_0d02_11ea_b819_8c8590ccd576row2_col0 {\n",
       "            background-color:  #f6bda2;\n",
       "            color:  #000000;\n",
       "        }    #T_20056e80_0d02_11ea_b819_8c8590ccd576row2_col1 {\n",
       "            background-color:  #df634e;\n",
       "            color:  #000000;\n",
       "        }    #T_20056e80_0d02_11ea_b819_8c8590ccd576row2_col2 {\n",
       "            background-color:  #b40426;\n",
       "            color:  #f1f1f1;\n",
       "        }    #T_20056e80_0d02_11ea_b819_8c8590ccd576row2_col3 {\n",
       "            background-color:  #3b4cc0;\n",
       "            color:  #f1f1f1;\n",
       "        }    #T_20056e80_0d02_11ea_b819_8c8590ccd576row3_col0 {\n",
       "            background-color:  #4055c8;\n",
       "            color:  #f1f1f1;\n",
       "        }    #T_20056e80_0d02_11ea_b819_8c8590ccd576row3_col1 {\n",
       "            background-color:  #3e51c5;\n",
       "            color:  #f1f1f1;\n",
       "        }    #T_20056e80_0d02_11ea_b819_8c8590ccd576row3_col2 {\n",
       "            background-color:  #3b4cc0;\n",
       "            color:  #f1f1f1;\n",
       "        }    #T_20056e80_0d02_11ea_b819_8c8590ccd576row3_col3 {\n",
       "            background-color:  #b40426;\n",
       "            color:  #f1f1f1;\n",
       "        }</style><table id=\"T_20056e80_0d02_11ea_b819_8c8590ccd576\" ><thead>    <tr>        <th class=\"blank level0\" ></th>        <th class=\"col_heading level0 col0\" >LAND SQUARE FEET</th>        <th class=\"col_heading level0 col1\" >GROSS SQUARE FEET</th>        <th class=\"col_heading level0 col2\" >RESIDENTIAL UNITS</th>        <th class=\"col_heading level0 col3\" >COMMERCIAL UNITS</th>    </tr></thead><tbody>\n",
       "                <tr>\n",
       "                        <th id=\"T_20056e80_0d02_11ea_b819_8c8590ccd576level0_row0\" class=\"row_heading level0 row0\" >LAND SQUARE FEET</th>\n",
       "                        <td id=\"T_20056e80_0d02_11ea_b819_8c8590ccd576row0_col0\" class=\"data row0 col0\" >1</td>\n",
       "                        <td id=\"T_20056e80_0d02_11ea_b819_8c8590ccd576row0_col1\" class=\"data row0 col1\" >0.791965</td>\n",
       "                        <td id=\"T_20056e80_0d02_11ea_b819_8c8590ccd576row0_col2\" class=\"data row0 col2\" >0.654991</td>\n",
       "                        <td id=\"T_20056e80_0d02_11ea_b819_8c8590ccd576row0_col3\" class=\"data row0 col3\" >0.0291856</td>\n",
       "            </tr>\n",
       "            <tr>\n",
       "                        <th id=\"T_20056e80_0d02_11ea_b819_8c8590ccd576level0_row1\" class=\"row_heading level0 row1\" >GROSS SQUARE FEET</th>\n",
       "                        <td id=\"T_20056e80_0d02_11ea_b819_8c8590ccd576row1_col0\" class=\"data row1 col0\" >0.791965</td>\n",
       "                        <td id=\"T_20056e80_0d02_11ea_b819_8c8590ccd576row1_col1\" class=\"data row1 col1\" >1</td>\n",
       "                        <td id=\"T_20056e80_0d02_11ea_b819_8c8590ccd576row1_col2\" class=\"data row1 col2\" >0.870247</td>\n",
       "                        <td id=\"T_20056e80_0d02_11ea_b819_8c8590ccd576row1_col3\" class=\"data row1 col3\" >0.0237757</td>\n",
       "            </tr>\n",
       "            <tr>\n",
       "                        <th id=\"T_20056e80_0d02_11ea_b819_8c8590ccd576level0_row2\" class=\"row_heading level0 row2\" >RESIDENTIAL UNITS</th>\n",
       "                        <td id=\"T_20056e80_0d02_11ea_b819_8c8590ccd576row2_col0\" class=\"data row2 col0\" >0.654991</td>\n",
       "                        <td id=\"T_20056e80_0d02_11ea_b819_8c8590ccd576row2_col1\" class=\"data row2 col1\" >0.870247</td>\n",
       "                        <td id=\"T_20056e80_0d02_11ea_b819_8c8590ccd576row2_col2\" class=\"data row2 col2\" >1</td>\n",
       "                        <td id=\"T_20056e80_0d02_11ea_b819_8c8590ccd576row2_col3\" class=\"data row2 col3\" >0.00917148</td>\n",
       "            </tr>\n",
       "            <tr>\n",
       "                        <th id=\"T_20056e80_0d02_11ea_b819_8c8590ccd576level0_row3\" class=\"row_heading level0 row3\" >COMMERCIAL UNITS</th>\n",
       "                        <td id=\"T_20056e80_0d02_11ea_b819_8c8590ccd576row3_col0\" class=\"data row3 col0\" >0.0291856</td>\n",
       "                        <td id=\"T_20056e80_0d02_11ea_b819_8c8590ccd576row3_col1\" class=\"data row3 col1\" >0.0237757</td>\n",
       "                        <td id=\"T_20056e80_0d02_11ea_b819_8c8590ccd576row3_col2\" class=\"data row3 col2\" >0.00917148</td>\n",
       "                        <td id=\"T_20056e80_0d02_11ea_b819_8c8590ccd576row3_col3\" class=\"data row3 col3\" >1</td>\n",
       "            </tr>\n",
       "    </tbody></table>"
      ],
      "text/plain": [
       "<pandas.io.formats.style.Styler at 0x1a169d1790>"
      ]
     },
     "execution_count": 11,
     "metadata": {},
     "output_type": "execute_result"
    }
   ],
   "source": [
    "df_cont.corr().style.background_gradient('coolwarm', axis=None)"
   ]
  },
  {
   "cell_type": "code",
   "execution_count": 12,
   "metadata": {},
   "outputs": [
    {
     "data": {
      "text/plain": [
       "((36128, 560), (36128,))"
      ]
     },
     "execution_count": 12,
     "metadata": {},
     "output_type": "execute_result"
    }
   ],
   "source": [
    "X.shape, y.shape"
   ]
  },
  {
   "cell_type": "markdown",
   "metadata": {},
   "source": [
    "# Modelling"
   ]
  },
  {
   "cell_type": "code",
   "execution_count": null,
   "metadata": {},
   "outputs": [],
   "source": [
    "# Train-test split\n",
    "X_train, X_test, y_train, y_test = train_test_split(X, y, test_size = 0.4, random_state = 42)\n",
    "\n",
    "# model = RandomForestRegressor(n_estimators=300, random_state=42)\n",
    "model = GradientBoostingRegressor(n_estimators=300, random_state=42, )\n",
    "\n",
    "# Fit Model\n",
    "%time model.fit(X_train, y_train)"
   ]
  },
  {
   "cell_type": "code",
   "execution_count": null,
   "metadata": {},
   "outputs": [],
   "source": [
    "y_pred = model.predict(X_test)\n",
    "y_pred_train = model.predict(X_train)"
   ]
  },
  {
   "cell_type": "code",
   "execution_count": null,
   "metadata": {},
   "outputs": [],
   "source": [
    "rmse_score = np.sqrt(mse(y_pred, y_test))"
   ]
  },
  {
   "cell_type": "code",
   "execution_count": null,
   "metadata": {},
   "outputs": [],
   "source": [
    "rmse_score"
   ]
  },
  {
   "cell_type": "code",
   "execution_count": null,
   "metadata": {},
   "outputs": [],
   "source": [
    "rmse_score_train = np.sqrt(mse(y_pred_train, y_train))\n",
    "rmse_score_train"
   ]
  },
  {
   "cell_type": "markdown",
   "metadata": {},
   "source": [
    "# AutoML"
   ]
  },
  {
   "cell_type": "code",
   "execution_count": null,
   "metadata": {},
   "outputs": [],
   "source": [
    "# !pip install tpot;\n",
    "from tpot import TPOTRegressor"
   ]
  },
  {
   "cell_type": "code",
   "execution_count": null,
   "metadata": {},
   "outputs": [],
   "source": [
    "gen_num = 5\n",
    "max_tot_time = 30\n",
    "max_eval_time = 3\n",
    "pop_size = 10\n",
    "verbose = 2"
   ]
  },
  {
   "cell_type": "code",
   "execution_count": null,
   "metadata": {},
   "outputs": [],
   "source": [
    "import os\n",
    "import shutil\n",
    "\n",
    "datadir = './pipelines'\n",
    "if not os.path.exists(datadir):\n",
    "    os.makedirs(datadir)\n",
    "\n",
    "tpot = TPOTRegressor(generations=gen_num, max_time_mins=max_tot_time, \n",
    "                      max_eval_time_mins=max_eval_time, population_size=pop_size, verbosity = verbose, memory = 'auto',\n",
    "                     periodic_checkpoint_folder='pipelines/', warm_start = True)\n",
    "tpot.fit(X_train, y_train)\n",
    "print(tpot.score(X_test, y_test))"
   ]
  },
  {
   "cell_type": "code",
   "execution_count": null,
   "metadata": {},
   "outputs": [],
   "source": [
    "pd.DataFrame(dict(list(tpot.evaluated_individuals_.items()))).T\\\n",
    ".replace([np.inf, -np.inf], np.nan)\\\n",
    ".dropna()\\\n",
    ".drop('generation', axis = 1)\\\n",
    ".sort_values('internal_cv_score', ascending = False)\\\n",
    ".head()"
   ]
  },
  {
   "cell_type": "code",
   "execution_count": null,
   "metadata": {},
   "outputs": [],
   "source": []
  }
 ],
 "metadata": {
  "kernelspec": {
   "display_name": "Python 3",
   "language": "python",
   "name": "python3"
  },
  "language_info": {
   "codemirror_mode": {
    "name": "ipython",
    "version": 3
   },
   "file_extension": ".py",
   "mimetype": "text/x-python",
   "name": "python",
   "nbconvert_exporter": "python",
   "pygments_lexer": "ipython3",
   "version": "3.7.4"
  }
 },
 "nbformat": 4,
 "nbformat_minor": 4
}
